{
 "cells": [
  {
   "cell_type": "code",
   "execution_count": 112,
   "metadata": {},
   "outputs": [],
   "source": [
    "from pytube import YouTube\n",
    "from moviepy.editor import *\n",
    "import os\n",
    "import eyed3\n",
    "from urllib import request"
   ]
  },
  {
   "cell_type": "code",
   "execution_count": 113,
   "metadata": {},
   "outputs": [],
   "source": [
    "#first iteration, just doing a sample test run\n",
    "\n",
    "yt = YouTube('https://www.youtube.com/watch?v=4rVY8YfdcX8')\n",
    "\n",
    "#storing track details for later\n",
    "track_title = yt.title\n",
    "uploader = yt.author\n",
    "\n",
    "#grabbing image for album cover\n",
    "\n",
    "thumbnail = request.urlopen(yt.thumbnail_url)\n",
    "cover = thumbnail.read()"
   ]
  },
  {
   "cell_type": "code",
   "execution_count": 114,
   "metadata": {},
   "outputs": [],
   "source": [
    "#gets stream with highest audio quality\n",
    "dl_stream = yt.streams.get_audio_only(subtype='mp4')"
   ]
  },
  {
   "cell_type": "code",
   "execution_count": 115,
   "metadata": {},
   "outputs": [],
   "source": [
    "#downloads stream\n",
    "out_file = dl_stream.download(output_path='output')\n",
    "\n",
    "#splits the extension for the output and gives us a name for the new file. Necessary for later\n",
    "base, ext = os.path.splitext(out_file)\n",
    "new_file = base + '.mp3'"
   ]
  },
  {
   "cell_type": "code",
   "execution_count": 116,
   "metadata": {
    "scrolled": false
   },
   "outputs": [
    {
     "name": "stderr",
     "output_type": "stream",
     "text": [
      "chunk:   0%|          | 162/97024 [00:00<01:00, 1607.22it/s, now=None]"
     ]
    },
    {
     "name": "stdout",
     "output_type": "stream",
     "text": [
      "MoviePy - Writing audio in /Users/iqbalsandhu/Python Studying/youtube_audio/output/Bhai Mohinder Singh Ji SDO ( Aaye Milo Sant Sajna ).mp3\n"
     ]
    },
    {
     "name": "stderr",
     "output_type": "stream",
     "text": [
      "                                                                        "
     ]
    },
    {
     "name": "stdout",
     "output_type": "stream",
     "text": [
      "MoviePy - Done.\n"
     ]
    },
    {
     "name": "stderr",
     "output_type": "stream",
     "text": [
      "\r"
     ]
    }
   ],
   "source": [
    "#done with pytube, working with moviepy now\n",
    "\n",
    "conversion_file = AudioFileClip(out_file)\n",
    "conversion_file.write_audiofile(new_file)"
   ]
  },
  {
   "cell_type": "code",
   "execution_count": 117,
   "metadata": {},
   "outputs": [],
   "source": [
    "#delete out file for space constraints\n",
    "os.remove(out_file)"
   ]
  },
  {
   "cell_type": "code",
   "execution_count": 118,
   "metadata": {},
   "outputs": [],
   "source": [
    "#working with eyed3 now\n",
    "finished_file = eyed3.load(new_file)\n",
    "\n",
    "#saves info from YouTube over to MP3\n",
    "finished_file.tag.title = track_title\n",
    "finished_file.tag.album = u\"YouTube Downloads\"\n",
    "finished_file.tag.artist = uploader\n",
    "finished_file.tag.images.set(type_=3, img_data=cover, mime_type=\"image/jpeg\")\n",
    "finished_file.tag.save(version=eyed3.id3.ID3_V2_3)"
   ]
  }
 ],
 "metadata": {
  "kernelspec": {
   "display_name": "Python 3",
   "language": "python",
   "name": "python3"
  },
  "language_info": {
   "codemirror_mode": {
    "name": "ipython",
    "version": 3
   },
   "file_extension": ".py",
   "mimetype": "text/x-python",
   "name": "python",
   "nbconvert_exporter": "python",
   "pygments_lexer": "ipython3",
   "version": "3.8.5"
  }
 },
 "nbformat": 4,
 "nbformat_minor": 4
}
