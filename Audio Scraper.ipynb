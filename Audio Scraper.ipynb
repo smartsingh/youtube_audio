{
 "cells": [
  {
   "cell_type": "code",
   "execution_count": 3,
   "metadata": {},
   "outputs": [],
   "source": [
    "from pytube import YouTube\n",
    "from mutagen.mp3 import MP3\n",
    "from mutagen.id3 import ID3\n",
    "import os"
   ]
  },
  {
   "cell_type": "code",
   "execution_count": 9,
   "metadata": {},
   "outputs": [],
   "source": [
    "#first iteration, just doing a sample test run\n",
    "\n",
    "yt = YouTube('https://www.youtube.com/watch?v=OUXLefidbhk')\n",
    "\n",
    "#storing track details for later\n",
    "track_title = yt.title\n",
    "\n",
    "cover = yt.thumbnail_url"
   ]
  },
  {
   "cell_type": "code",
   "execution_count": 47,
   "metadata": {},
   "outputs": [],
   "source": [
    "#gets stream with highest audio quality\n",
    "dl_stream = yt.streams.get_audio_only(subtype='mp4')"
   ]
  },
  {
   "cell_type": "code",
   "execution_count": 41,
   "metadata": {},
   "outputs": [
    {
     "data": {
      "text/plain": [
       "'/Users/iqbalsandhu/Python Studying/youtube_audio/~/output/Bhai Mohinder Singh Ji SDO 80s Complete Aasa Ki Vaar.mp4'"
      ]
     },
     "execution_count": 41,
     "metadata": {},
     "output_type": "execute_result"
    }
   ],
   "source": [
    "dl_stream.download(output_path='output')"
   ]
  }
 ],
 "metadata": {
  "kernelspec": {
   "display_name": "Python 3",
   "language": "python",
   "name": "python3"
  },
  "language_info": {
   "codemirror_mode": {
    "name": "ipython",
    "version": 3
   },
   "file_extension": ".py",
   "mimetype": "text/x-python",
   "name": "python",
   "nbconvert_exporter": "python",
   "pygments_lexer": "ipython3",
   "version": "3.8.5"
  }
 },
 "nbformat": 4,
 "nbformat_minor": 4
}
