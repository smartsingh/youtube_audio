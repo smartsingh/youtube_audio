{
 "cells": [
  {
   "cell_type": "code",
   "execution_count": 1,
   "metadata": {},
   "outputs": [],
   "source": [
    "from pytube import YouTube\n",
    "from moviepy.editor import *\n",
    "import os\n",
    "import eyed3\n",
    "from urllib import request"
   ]
  },
  {
   "cell_type": "code",
   "execution_count": 5,
   "metadata": {},
   "outputs": [],
   "source": [
    "#creating video class using code that I developed in the audio scraper notebook\n",
    "class video:\n",
    "    \n",
    "    def __init__(self, url):\n",
    "        \n",
    "        self.yt = YouTube(url)\n",
    "\n",
    "        #storing track details for later\n",
    "        self.track_title = self.yt.title\n",
    "        self.uploader = self.yt.author\n",
    "\n",
    "        #grabbing image for album cover\n",
    "\n",
    "        self.thumbnail = request.urlopen(self.yt.thumbnail_url)\n",
    "        self.cover = self.thumbnail.read()\n",
    "        \n",
    "        print(f\"Added {self.track_title} from {self.uploader}\")\n",
    "        \n",
    "    def rip(self):\n",
    "        #gets stream with highest audio quality\n",
    "        dl_stream = self.yt.streams.get_audio_only(subtype='mp4')\n",
    "        \n",
    "        #downloads stream\n",
    "        out_file = dl_stream.download(output_path='output')\n",
    "        \n",
    "        print(f\"Ripping audio to {os.path.realpath(out_file)}\")\n",
    "\n",
    "        #splits the extension for the output and gives us a name for the new file. Necessary for later\n",
    "        base, ext = os.path.splitext(out_file)\n",
    "        new_file = base + '.mp3'\n",
    "        \n",
    "        #done with pytube, working with moviepy now\n",
    "\n",
    "        conversion_file = AudioFileClip(out_file)\n",
    "        conversion_file.write_audiofile(new_file)\n",
    "        \n",
    "        #delete out file for space constraints\n",
    "        os.remove(out_file)\n",
    "        \n",
    "        #working with eyed3 now\n",
    "        finished_file = eyed3.load(new_file)\n",
    "\n",
    "        #saves info from YouTube over to MP3\n",
    "        finished_file.tag.title = self.track_title\n",
    "        finished_file.tag.album = u\"YouTube Downloads\"\n",
    "        finished_file.tag.artist = self.uploader\n",
    "        finished_file.tag.images.set(type_=3, img_data=self.cover, mime_type=\"image/jpeg\")\n",
    "        finished_file.tag.save(version=eyed3.id3.ID3_V2_3)\n",
    "        \n",
    "        print(f\"Finished downloading {self.track_title}\")\n",
    "    "
   ]
  },
  {
   "cell_type": "code",
   "execution_count": 6,
   "metadata": {},
   "outputs": [
    {
     "name": "stdout",
     "output_type": "stream",
     "text": [
      "Added Bhai Dharam Singh Zakhmi - Guftgu Eh Khaas from Kirtan Sewa\n"
     ]
    }
   ],
   "source": [
    "#testing out scraper\n",
    "zvid = video('https://www.youtube.com/watch?v=6m0dwx68ztA')"
   ]
  },
  {
   "cell_type": "code",
   "execution_count": 7,
   "metadata": {
    "scrolled": true
   },
   "outputs": [
    {
     "name": "stderr",
     "output_type": "stream",
     "text": [
      "\r",
      "chunk:   0%|          | 0/21707 [00:00<?, ?it/s, now=None]"
     ]
    },
    {
     "name": "stdout",
     "output_type": "stream",
     "text": [
      "Ripping audio to /Users/iqbalsandhu/Python Studying/youtube_audio/output/Bhai Dharam Singh Zakhmi - Guftgu Eh Khaas.mp4\n",
      "MoviePy - Writing audio in /Users/iqbalsandhu/Python Studying/youtube_audio/output/Bhai Dharam Singh Zakhmi - Guftgu Eh Khaas.mp3\n"
     ]
    },
    {
     "name": "stderr",
     "output_type": "stream",
     "text": [
      "                                                                        "
     ]
    },
    {
     "name": "stdout",
     "output_type": "stream",
     "text": [
      "MoviePy - Done.\n",
      "Finished downloading Bhai Dharam Singh Zakhmi - Guftgu Eh Khaas\n"
     ]
    },
    {
     "name": "stderr",
     "output_type": "stream",
     "text": [
      "\r"
     ]
    }
   ],
   "source": [
    "zvid.rip()"
   ]
  }
 ],
 "metadata": {
  "kernelspec": {
   "display_name": "Python 3",
   "language": "python",
   "name": "python3"
  },
  "language_info": {
   "codemirror_mode": {
    "name": "ipython",
    "version": 3
   },
   "file_extension": ".py",
   "mimetype": "text/x-python",
   "name": "python",
   "nbconvert_exporter": "python",
   "pygments_lexer": "ipython3",
   "version": "3.8.5"
  }
 },
 "nbformat": 4,
 "nbformat_minor": 4
}
